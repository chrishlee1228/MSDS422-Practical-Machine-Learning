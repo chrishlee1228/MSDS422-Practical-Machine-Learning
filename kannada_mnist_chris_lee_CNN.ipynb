{
 "cells": [
  {
   "cell_type": "code",
   "execution_count": 1,
   "metadata": {
    "execution": {
     "iopub.execute_input": "2021-11-07T15:02:28.874910Z",
     "iopub.status.busy": "2021-11-07T15:02:28.874363Z",
     "iopub.status.idle": "2021-11-07T15:02:31.312810Z",
     "shell.execute_reply": "2021-11-07T15:02:31.311992Z",
     "shell.execute_reply.started": "2021-11-07T15:02:28.874794Z"
    },
    "id": "gGVaT67lRPun"
   },
   "outputs": [],
   "source": [
    "import numpy as np\n",
    "import pandas as pd\n",
    "import seaborn as sns\n",
    "import matplotlib.pyplot as plt\n",
    "%matplotlib inline\n",
    "import pandas_profiling\n",
    "from scipy.stats import norm\n",
    "from sklearn.linear_model import LinearRegression, RidgeCV, LassoCV, ElasticNetCV\n",
    "from scipy import stats\n",
    "from sklearn.preprocessing import MinMaxScaler\n",
    "from sklearn.preprocessing import StandardScaler\n",
    "from sklearn.model_selection import train_test_split\n",
    "from sklearn.metrics import mean_squared_error, make_scorer\n",
    "from scipy.stats import skew\n",
    "from IPython.display import display\n",
    "from sklearn.linear_model import LogisticRegression\n",
    "from sklearn.model_selection import RandomizedSearchCV\n",
    "from sklearn.metrics import recall_score, f1_score, roc_auc_score\n",
    "from sklearn.model_selection import RepeatedStratifiedKFold, StratifiedKFold\n",
    "import warnings\n",
    "warnings.filterwarnings(action=\"ignore\")\n",
    "\n",
    "# Preprocessing Libraries\n",
    "\n",
    "from sklearn.pipeline import make_pipeline\n",
    "from sklearn.model_selection import train_test_split\n",
    "from sklearn.model_selection import StratifiedShuffleSplit\n",
    "\n",
    "# Machine Learning Libraries\n",
    "from sklearn import tree\n",
    "from sklearn.svm import SVC\n",
    "from sklearn.metrics import roc_curve\n",
    "from imblearn.pipeline import Pipeline\n",
    "from imblearn.over_sampling import SMOTE\n",
    "from sklearn.ensemble import StackingClassifier\n",
    "from sklearn.metrics import classification_report\n",
    "from mlxtend.classifier import StackingCVClassifier\n",
    "from sklearn.ensemble import RandomForestClassifier\n",
    "from sklearn.linear_model import LogisticRegression\n",
    "from sklearn.model_selection import cross_val_predict\n",
    "from sklearn.model_selection import RandomizedSearchCV\n",
    "from sklearn.model_selection import KFold, cross_validate\n",
    "from sklearn.metrics import recall_score, f1_score, roc_auc_score\n",
    "from imblearn.pipeline import make_pipeline as imbalanced_make_pipeline\n",
    "from sklearn.metrics import precision_recall_curve, average_precision_score\n",
    "from sklearn.model_selection import RepeatedStratifiedKFold, StratifiedKFold\n",
    "from sklearn.metrics import confusion_matrix, accuracy_score, precision_score\n",
    "\n",
    "import time"
   ]
  },
  {
   "cell_type": "code",
   "execution_count": 2,
   "metadata": {
    "colab": {
     "base_uri": "https://localhost:8080/"
    },
    "execution": {
     "iopub.execute_input": "2021-11-07T15:02:31.314903Z",
     "iopub.status.busy": "2021-11-07T15:02:31.314557Z",
     "iopub.status.idle": "2021-11-07T15:02:36.732403Z",
     "shell.execute_reply": "2021-11-07T15:02:36.731660Z",
     "shell.execute_reply.started": "2021-11-07T15:02:31.314861Z"
    },
    "id": "Xu0AQyE4sSgU",
    "outputId": "5e40840c-df44-427a-b4d7-f9f628634034"
   },
   "outputs": [
    {
     "name": "stdout",
     "output_type": "stream",
     "text": [
      "Mounted at /content/drive\n"
     ]
    }
   ],
   "source": [
    "from google.colab import drive\n",
    "drive.mount('/content/drive')\n",
    "\n",
    "train=pd.read_csv('/content/drive/MyDrive/Colab Notebooks/mnist_train.csv')\n",
    "unseentest=pd.read_csv('/content/drive/MyDrive/Colab Notebooks/mnist_test.csv')"
   ]
  },
  {
   "cell_type": "code",
   "execution_count": 3,
   "metadata": {
    "colab": {
     "base_uri": "https://localhost:8080/",
     "height": 129
    },
    "execution": {
     "iopub.execute_input": "2021-11-07T15:02:36.733847Z",
     "iopub.status.busy": "2021-11-07T15:02:36.733590Z",
     "iopub.status.idle": "2021-11-07T15:02:36.760324Z",
     "shell.execute_reply": "2021-11-07T15:02:36.759492Z",
     "shell.execute_reply.started": "2021-11-07T15:02:36.733816Z"
    },
    "id": "D_yBoSQthUvb",
    "outputId": "6f0cf860-16b4-4ba6-a9b7-619ca8afd047"
   },
   "outputs": [
    {
     "data": {
      "text/html": [
       "<div>\n",
       "<style scoped>\n",
       "    .dataframe tbody tr th:only-of-type {\n",
       "        vertical-align: middle;\n",
       "    }\n",
       "\n",
       "    .dataframe tbody tr th {\n",
       "        vertical-align: top;\n",
       "    }\n",
       "\n",
       "    .dataframe thead th {\n",
       "        text-align: right;\n",
       "    }\n",
       "</style>\n",
       "<table border=\"1\" class=\"dataframe\">\n",
       "  <thead>\n",
       "    <tr style=\"text-align: right;\">\n",
       "      <th></th>\n",
       "      <th>label</th>\n",
       "      <th>pixel0</th>\n",
       "      <th>pixel1</th>\n",
       "      <th>pixel2</th>\n",
       "      <th>pixel3</th>\n",
       "      <th>pixel4</th>\n",
       "      <th>pixel5</th>\n",
       "      <th>pixel6</th>\n",
       "      <th>pixel7</th>\n",
       "      <th>pixel8</th>\n",
       "      <th>pixel9</th>\n",
       "      <th>pixel10</th>\n",
       "      <th>pixel11</th>\n",
       "      <th>pixel12</th>\n",
       "      <th>pixel13</th>\n",
       "      <th>pixel14</th>\n",
       "      <th>pixel15</th>\n",
       "      <th>pixel16</th>\n",
       "      <th>pixel17</th>\n",
       "      <th>pixel18</th>\n",
       "      <th>pixel19</th>\n",
       "      <th>pixel20</th>\n",
       "      <th>pixel21</th>\n",
       "      <th>pixel22</th>\n",
       "      <th>pixel23</th>\n",
       "      <th>pixel24</th>\n",
       "      <th>pixel25</th>\n",
       "      <th>pixel26</th>\n",
       "      <th>pixel27</th>\n",
       "      <th>pixel28</th>\n",
       "      <th>pixel29</th>\n",
       "      <th>pixel30</th>\n",
       "      <th>pixel31</th>\n",
       "      <th>pixel32</th>\n",
       "      <th>pixel33</th>\n",
       "      <th>pixel34</th>\n",
       "      <th>pixel35</th>\n",
       "      <th>pixel36</th>\n",
       "      <th>pixel37</th>\n",
       "      <th>pixel38</th>\n",
       "      <th>...</th>\n",
       "      <th>pixel744</th>\n",
       "      <th>pixel745</th>\n",
       "      <th>pixel746</th>\n",
       "      <th>pixel747</th>\n",
       "      <th>pixel748</th>\n",
       "      <th>pixel749</th>\n",
       "      <th>pixel750</th>\n",
       "      <th>pixel751</th>\n",
       "      <th>pixel752</th>\n",
       "      <th>pixel753</th>\n",
       "      <th>pixel754</th>\n",
       "      <th>pixel755</th>\n",
       "      <th>pixel756</th>\n",
       "      <th>pixel757</th>\n",
       "      <th>pixel758</th>\n",
       "      <th>pixel759</th>\n",
       "      <th>pixel760</th>\n",
       "      <th>pixel761</th>\n",
       "      <th>pixel762</th>\n",
       "      <th>pixel763</th>\n",
       "      <th>pixel764</th>\n",
       "      <th>pixel765</th>\n",
       "      <th>pixel766</th>\n",
       "      <th>pixel767</th>\n",
       "      <th>pixel768</th>\n",
       "      <th>pixel769</th>\n",
       "      <th>pixel770</th>\n",
       "      <th>pixel771</th>\n",
       "      <th>pixel772</th>\n",
       "      <th>pixel773</th>\n",
       "      <th>pixel774</th>\n",
       "      <th>pixel775</th>\n",
       "      <th>pixel776</th>\n",
       "      <th>pixel777</th>\n",
       "      <th>pixel778</th>\n",
       "      <th>pixel779</th>\n",
       "      <th>pixel780</th>\n",
       "      <th>pixel781</th>\n",
       "      <th>pixel782</th>\n",
       "      <th>pixel783</th>\n",
       "    </tr>\n",
       "  </thead>\n",
       "  <tbody>\n",
       "    <tr>\n",
       "      <th>0</th>\n",
       "      <td>0</td>\n",
       "      <td>0</td>\n",
       "      <td>0</td>\n",
       "      <td>0</td>\n",
       "      <td>0</td>\n",
       "      <td>0</td>\n",
       "      <td>0</td>\n",
       "      <td>0</td>\n",
       "      <td>0</td>\n",
       "      <td>0</td>\n",
       "      <td>0</td>\n",
       "      <td>0</td>\n",
       "      <td>0</td>\n",
       "      <td>0</td>\n",
       "      <td>0</td>\n",
       "      <td>0</td>\n",
       "      <td>0</td>\n",
       "      <td>0</td>\n",
       "      <td>0</td>\n",
       "      <td>0</td>\n",
       "      <td>0</td>\n",
       "      <td>0</td>\n",
       "      <td>0</td>\n",
       "      <td>0</td>\n",
       "      <td>0</td>\n",
       "      <td>0</td>\n",
       "      <td>0</td>\n",
       "      <td>0</td>\n",
       "      <td>0</td>\n",
       "      <td>0</td>\n",
       "      <td>0</td>\n",
       "      <td>0</td>\n",
       "      <td>0</td>\n",
       "      <td>0</td>\n",
       "      <td>0</td>\n",
       "      <td>0</td>\n",
       "      <td>0</td>\n",
       "      <td>0</td>\n",
       "      <td>0</td>\n",
       "      <td>0</td>\n",
       "      <td>...</td>\n",
       "      <td>0</td>\n",
       "      <td>0</td>\n",
       "      <td>0</td>\n",
       "      <td>0</td>\n",
       "      <td>0</td>\n",
       "      <td>0</td>\n",
       "      <td>0</td>\n",
       "      <td>0</td>\n",
       "      <td>0</td>\n",
       "      <td>0</td>\n",
       "      <td>0</td>\n",
       "      <td>0</td>\n",
       "      <td>0</td>\n",
       "      <td>0</td>\n",
       "      <td>0</td>\n",
       "      <td>0</td>\n",
       "      <td>0</td>\n",
       "      <td>0</td>\n",
       "      <td>0</td>\n",
       "      <td>0</td>\n",
       "      <td>0</td>\n",
       "      <td>0</td>\n",
       "      <td>0</td>\n",
       "      <td>0</td>\n",
       "      <td>0</td>\n",
       "      <td>0</td>\n",
       "      <td>0</td>\n",
       "      <td>0</td>\n",
       "      <td>0</td>\n",
       "      <td>0</td>\n",
       "      <td>0</td>\n",
       "      <td>0</td>\n",
       "      <td>0</td>\n",
       "      <td>0</td>\n",
       "      <td>0</td>\n",
       "      <td>0</td>\n",
       "      <td>0</td>\n",
       "      <td>0</td>\n",
       "      <td>0</td>\n",
       "      <td>0</td>\n",
       "    </tr>\n",
       "  </tbody>\n",
       "</table>\n",
       "<p>1 rows × 785 columns</p>\n",
       "</div>"
      ],
      "text/plain": [
       "   label  pixel0  pixel1  pixel2  ...  pixel780  pixel781  pixel782  pixel783\n",
       "0      0       0       0       0  ...         0         0         0         0\n",
       "\n",
       "[1 rows x 785 columns]"
      ]
     },
     "execution_count": 3,
     "metadata": {},
     "output_type": "execute_result"
    }
   ],
   "source": [
    "train.head(1)"
   ]
  },
  {
   "cell_type": "code",
   "execution_count": 4,
   "metadata": {
    "colab": {
     "base_uri": "https://localhost:8080/"
    },
    "execution": {
     "iopub.execute_input": "2021-11-07T15:02:36.762355Z",
     "iopub.status.busy": "2021-11-07T15:02:36.762105Z",
     "iopub.status.idle": "2021-11-07T15:02:36.777626Z",
     "shell.execute_reply": "2021-11-07T15:02:36.776720Z",
     "shell.execute_reply.started": "2021-11-07T15:02:36.762324Z"
    },
    "id": "v-N4_Gg9sSgV",
    "outputId": "81d04bf1-6007-441d-9457-6e345be49aaa"
   },
   "outputs": [
    {
     "data": {
      "text/plain": [
       "count    60000.000000\n",
       "mean         4.500000\n",
       "std          2.872305\n",
       "min          0.000000\n",
       "25%          2.000000\n",
       "50%          4.500000\n",
       "75%          7.000000\n",
       "max          9.000000\n",
       "Name: label, dtype: float64"
      ]
     },
     "execution_count": 4,
     "metadata": {},
     "output_type": "execute_result"
    }
   ],
   "source": [
    "#labels have 60K count with mean of exactly 4.5 meaning all training\n",
    "#data distributed evenly\n",
    "\n",
    "train['label'].describe()"
   ]
  },
  {
   "cell_type": "markdown",
   "metadata": {
    "id": "zqHpp9hVqKYE"
   },
   "source": [
    "# Random Forest Classifier"
   ]
  },
  {
   "cell_type": "code",
   "execution_count": 5,
   "metadata": {
    "execution": {
     "iopub.execute_input": "2021-11-07T15:02:36.779655Z",
     "iopub.status.busy": "2021-11-07T15:02:36.778939Z",
     "iopub.status.idle": "2021-11-07T15:02:37.371288Z",
     "shell.execute_reply": "2021-11-07T15:02:37.370374Z",
     "shell.execute_reply.started": "2021-11-07T15:02:36.779567Z"
    },
    "id": "dMZzRWe7sSgW"
   },
   "outputs": [],
   "source": [
    "# Dividing Data and Labels\n",
    "\n",
    "labels = train['label']\n",
    "X_drop_labels = train.drop(['label'], axis = 1) #x\n",
    "\n",
    "# Splitting Train and Test Data\n",
    "\n",
    "X_train,X_test,y_train,y_test  = train_test_split(X_drop_labels,\n",
    "                                              labels,\n",
    "                                              test_size=0.2,\n",
    "                                              stratify = labels,\n",
    "                                              random_state = 42)\n",
    "\n",
    "# Stratified Cross Validation Splitting\n",
    "\n",
    "sss = StratifiedKFold(n_splits=5)\n"
   ]
  },
  {
   "cell_type": "code",
   "execution_count": 6,
   "metadata": {
    "colab": {
     "base_uri": "https://localhost:8080/",
     "height": 319
    },
    "execution": {
     "iopub.execute_input": "2021-11-07T15:02:37.373295Z",
     "iopub.status.busy": "2021-11-07T15:02:37.372743Z",
     "iopub.status.idle": "2021-11-07T15:02:41.935463Z",
     "shell.execute_reply": "2021-11-07T15:02:41.934859Z",
     "shell.execute_reply.started": "2021-11-07T15:02:37.373246Z"
    },
    "id": "flEwghRnhmd7",
    "outputId": "5b89d3fa-88e8-46ab-a84a-350443a06218"
   },
   "outputs": [
    {
     "data": {
      "image/png": "[encoded data removed]",
      "text/plain": [
       "<Figure size 360x360 with 100 Axes>"
      ]
     },
     "metadata": {
      "needs_background": "light"
     },
     "output_type": "display_data"
    }
   ],
   "source": [
    "# Visualization Reference Kernel https://www.kaggle.com/josephvm/kannada-with-pytorch\n",
    "# Some quick data visualization \n",
    "# First 10 images of each class in the training set\n",
    "\n",
    "fig, ax = plt.subplots(nrows=10, ncols=10, figsize=(5,5))\n",
    "\n",
    "#num_i computed once for each class\n",
    "for i in range(10): # Column by column\n",
    "    num_i = X_train[y_train == i]\n",
    "    ax[0][i].set_title(i)\n",
    "    for j in range(10): # Row by row\n",
    "        ax[j][i].axis('off')\n",
    "        ax[j][i].imshow(num_i.iloc[j, :].to_numpy().\\\n",
    "                        astype(np.uint8).reshape(28, 28), cmap='gray')"
   ]
  },
  {
   "cell_type": "code",
   "execution_count": 7,
   "metadata": {
    "colab": {
     "base_uri": "https://localhost:8080/"
    },
    "execution": {
     "iopub.execute_input": "2021-11-07T15:02:41.937004Z",
     "iopub.status.busy": "2021-11-07T15:02:41.936362Z",
     "iopub.status.idle": "2021-11-07T15:03:12.532346Z",
     "shell.execute_reply": "2021-11-07T15:03:12.531501Z",
     "shell.execute_reply.started": "2021-11-07T15:02:41.936954Z"
    },
    "id": "CQ_RE7Vt6Hpl",
    "outputId": "bd33a36b-7227-42af-849a-907683436b21"
   },
   "outputs": [
    {
     "name": "stdout",
     "output_type": "stream",
     "text": [
      "29.77341890335083\n"
     ]
    }
   ],
   "source": [
    "start=time.time()\n",
    "rfc = RandomForestClassifier()\n",
    "\n",
    "rfc.fit(X_train,y_train)\n",
    "end=time.time()\n",
    "print(end-start)"
   ]
  },
  {
   "cell_type": "code",
   "execution_count": 8,
   "metadata": {
    "colab": {
     "base_uri": "https://localhost:8080/"
    },
    "execution": {
     "iopub.execute_input": "2021-11-07T15:03:12.534069Z",
     "iopub.status.busy": "2021-11-07T15:03:12.533752Z",
     "iopub.status.idle": "2021-11-07T15:03:13.027141Z",
     "shell.execute_reply": "2021-11-07T15:03:13.026335Z",
     "shell.execute_reply.started": "2021-11-07T15:03:12.534025Z"
    },
    "id": "UAC2Ldt7h7LY",
    "outputId": "0ebff317-0503-4bc7-d4a1-d08fbf909b99"
   },
   "outputs": [
    {
     "data": {
      "text/plain": [
       "array([5, 4, 5, ..., 8, 2, 8])"
      ]
     },
     "execution_count": 8,
     "metadata": {},
     "output_type": "execute_result"
    }
   ],
   "source": [
    "prediction_rfc = rfc.predict(X_test)\n",
    "prediction_rfc"
   ]
  },
  {
   "cell_type": "code",
   "execution_count": 9,
   "metadata": {
    "colab": {
     "base_uri": "https://localhost:8080/"
    },
    "execution": {
     "iopub.execute_input": "2021-11-07T15:03:13.029071Z",
     "iopub.status.busy": "2021-11-07T15:03:13.028623Z",
     "iopub.status.idle": "2021-11-07T15:03:13.067974Z",
     "shell.execute_reply": "2021-11-07T15:03:13.067132Z",
     "shell.execute_reply.started": "2021-11-07T15:03:13.029028Z"
    },
    "id": "xNr9Z92bqg60",
    "outputId": "205cd03c-cb9a-476d-aedb-95bf04c7e394"
   },
   "outputs": [
    {
     "name": "stdout",
     "output_type": "stream",
     "text": [
      "              precision    recall  f1-score   support\n",
      "\n",
      "           0       0.98      0.97      0.98      1200\n",
      "           1       0.98      1.00      0.99      1200\n",
      "           2       1.00      0.99      1.00      1200\n",
      "           3       0.96      0.98      0.97      1200\n",
      "           4       0.97      0.98      0.98      1200\n",
      "           5       0.99      0.99      0.99      1200\n",
      "           6       0.96      0.98      0.97      1200\n",
      "           7       0.98      0.95      0.97      1200\n",
      "           8       0.99      0.99      0.99      1200\n",
      "           9       1.00      0.97      0.98      1200\n",
      "\n",
      "    accuracy                           0.98     12000\n",
      "   macro avg       0.98      0.98      0.98     12000\n",
      "weighted avg       0.98      0.98      0.98     12000\n",
      "\n",
      "(12000,) (12000,)\n"
     ]
    }
   ],
   "source": [
    "#Classification report\n",
    "\n",
    "print(classification_report(y_test, prediction_rfc))\n",
    "\n",
    "print(y_test.shape,prediction_rfc.shape)"
   ]
  },
  {
   "cell_type": "code",
   "execution_count": 10,
   "metadata": {
    "colab": {
     "base_uri": "https://localhost:8080/"
    },
    "execution": {
     "iopub.execute_input": "2021-11-07T15:03:13.070611Z",
     "iopub.status.busy": "2021-11-07T15:03:13.070359Z",
     "iopub.status.idle": "2021-11-07T15:03:13.097072Z",
     "shell.execute_reply": "2021-11-07T15:03:13.096425Z",
     "shell.execute_reply.started": "2021-11-07T15:03:13.070580Z"
    },
    "id": "eC62dp0CsSga",
    "outputId": "dd4e2907-3aaa-454d-94f0-5e0d82a572d8"
   },
   "outputs": [
    {
     "data": {
      "text/plain": [
       "array([[1170,   22,    0,    5,    1,    0,    0,    0,    2,    0],\n",
       "       [   2, 1195,    0,    1,    2,    0,    0,    0,    0,    0],\n",
       "       [   4,    1, 1191,    2,    1,    1,    0,    0,    0,    0],\n",
       "       [   6,    0,    0, 1177,    5,    4,    0,    8,    0,    0],\n",
       "       [   0,    0,    0,    7, 1182,    7,    0,    0,    2,    2],\n",
       "       [   0,    0,    0,    5,    9, 1186,    0,    0,    0,    0],\n",
       "       [   1,    0,    0,    8,    1,    0, 1177,   11,    0,    2],\n",
       "       [   2,    1,    0,   20,    5,    0,   27, 1145,    0,    0],\n",
       "       [   5,    4,    0,    1,    1,    1,    0,    0, 1188,    0],\n",
       "       [   0,    0,    0,    2,    7,    1,   21,    1,    3, 1165]])"
      ]
     },
     "execution_count": 10,
     "metadata": {},
     "output_type": "execute_result"
    }
   ],
   "source": [
    "confusion_matrix(y_test, prediction_rfc)"
   ]
  },
  {
   "cell_type": "code",
   "execution_count": 11,
   "metadata": {
    "execution": {
     "iopub.execute_input": "2021-11-07T15:03:13.098522Z",
     "iopub.status.busy": "2021-11-07T15:03:13.097978Z",
     "iopub.status.idle": "2021-11-07T15:03:13.314644Z",
     "shell.execute_reply": "2021-11-07T15:03:13.314028Z",
     "shell.execute_reply.started": "2021-11-07T15:03:13.098490Z"
    },
    "id": "9yB65na6q2hz"
   },
   "outputs": [],
   "source": [
    "#Kaggle submission RFC\n",
    "\n",
    "unseenXtest = unseentest.drop(columns = 'id')\n",
    "\n",
    "modeltestrfc = pd.Series(rfc.predict(unseenXtest), name = 'label')\n",
    "modelsubmissionrfc = pd.concat([unseentest['id'], modeltestrfc], axis=1)\n",
    "\n",
    "modelsubmissionrfc.to_csv('submission.csv', index = False)"
   ]
  },
  {
   "cell_type": "markdown",
   "metadata": {
    "id": "Osov9yuGsSga"
   },
   "source": [
    "# Random Forest Classifier with PCA"
   ]
  },
  {
   "cell_type": "code",
   "execution_count": 12,
   "metadata": {
    "execution": {
     "iopub.execute_input": "2021-11-07T15:03:13.315956Z",
     "iopub.status.busy": "2021-11-07T15:03:13.315541Z",
     "iopub.status.idle": "2021-11-07T15:03:13.319642Z",
     "shell.execute_reply": "2021-11-07T15:03:13.318985Z",
     "shell.execute_reply.started": "2021-11-07T15:03:13.315924Z"
    },
    "id": "jaqFp3fJsSgb"
   },
   "outputs": [],
   "source": [
    "from sklearn import svm\n",
    "from sklearn.decomposition import PCA"
   ]
  },
  {
   "cell_type": "code",
   "execution_count": 13,
   "metadata": {
    "execution": {
     "iopub.execute_input": "2021-11-07T15:03:13.320998Z",
     "iopub.status.busy": "2021-11-07T15:03:13.320707Z",
     "iopub.status.idle": "2021-11-07T15:03:16.724114Z",
     "shell.execute_reply": "2021-11-07T15:03:16.723277Z",
     "shell.execute_reply.started": "2021-11-07T15:03:13.320967Z"
    },
    "id": "RGA5yvE4sSgb"
   },
   "outputs": [],
   "source": [
    "# Dividing Data and Labels\n",
    "\n",
    "labels = train['label']\n",
    "X_drop_labels_pca = train.drop(['label'], axis = 1) #x\n",
    "X_drop_labels_scaled=StandardScaler().fit_transform(X_drop_labels_pca)\n",
    "\n",
    "\n",
    "#To ensure features between train and unseen test remain same\n",
    "# X_train = train.drop('label',axis = 1)\n",
    "X_unseentest = unseentest.drop('id', axis=1)\n",
    "X_unseentest_scaled=StandardScaler().fit_transform(X_unseentest)\n",
    "\n",
    "X_combined = pd.concat([X_drop_labels_pca,X_unseentest])\n",
    "\n",
    "X_combined_scaled = StandardScaler().fit_transform(X_combined)\n",
    "\n",
    "# Splitting Train and Test Data\n",
    "\n",
    "X_train,X_test,y_train,y_test  = train_test_split(X_drop_labels_pca,\n",
    "                                              labels,\n",
    "                                              test_size=0.2,\n",
    "                                              stratify = labels,\n",
    "                                              random_state = 42)\n"
   ]
  },
  {
   "cell_type": "code",
   "execution_count": 13,
   "metadata": {
    "id": "K1IOz_WSsSgc"
   },
   "outputs": [],
   "source": []
  },
  {
   "cell_type": "code",
   "execution_count": 14,
   "metadata": {
    "colab": {
     "base_uri": "https://localhost:8080/"
    },
    "execution": {
     "iopub.execute_input": "2021-11-07T15:03:16.726077Z",
     "iopub.status.busy": "2021-11-07T15:03:16.725787Z",
     "iopub.status.idle": "2021-11-07T15:03:24.782044Z",
     "shell.execute_reply": "2021-11-07T15:03:24.781001Z",
     "shell.execute_reply.started": "2021-11-07T15:03:16.726037Z"
    },
    "id": "325Hp6NZsSgc",
    "outputId": "8bb59f59-3f26-43b6-9984-e150c731560e"
   },
   "outputs": [
    {
     "name": "stdout",
     "output_type": "stream",
     "text": [
      "seconds:  11.363454103469849\n"
     ]
    }
   ],
   "source": [
    "#PCA using 95% variability of explanatory variables\n",
    "\n",
    "start=time.time()\n",
    "\n",
    "pca = PCA(0.95)\n",
    "pca.fit(X_combined_scaled)\n",
    "\n",
    "end=time.time()\n",
    "print(\"seconds: \",end-start)\n"
   ]
  },
  {
   "cell_type": "code",
   "execution_count": 15,
   "metadata": {
    "execution": {
     "iopub.execute_input": "2021-11-07T15:03:24.783948Z",
     "iopub.status.busy": "2021-11-07T15:03:24.783697Z",
     "iopub.status.idle": "2021-11-07T15:03:33.908601Z",
     "shell.execute_reply": "2021-11-07T15:03:33.907641Z",
     "shell.execute_reply.started": "2021-11-07T15:03:24.783916Z"
    },
    "id": "uv8FhIu-sSgc"
   },
   "outputs": [],
   "source": [
    "# training and unseentest set Standard Scaled\n",
    "# X_train = train.drop('label', axis=1)\n",
    "\n",
    "\n",
    "y_train=train['label']\n",
    "\n",
    "#train and test set fit to the PCA\n",
    "X_train_pca=pca.fit(X_drop_labels_scaled)\n",
    "X_unseentest_pca=pca.fit(X_unseentest_scaled)"
   ]
  },
  {
   "cell_type": "code",
   "execution_count": 16,
   "metadata": {
    "execution": {
     "iopub.execute_input": "2021-11-07T15:03:33.910836Z",
     "iopub.status.busy": "2021-11-07T15:03:33.910289Z",
     "iopub.status.idle": "2021-11-07T15:03:33.915210Z",
     "shell.execute_reply": "2021-11-07T15:03:33.914350Z",
     "shell.execute_reply.started": "2021-11-07T15:03:33.910763Z"
    },
    "id": "385bJpARsSgc"
   },
   "outputs": [],
   "source": [
    "# #help:\n",
    "\n",
    "# pca = PCA(0.95)\n",
    "# X_train_scaled = pca.fit_transform(X_train)\n",
    "# # classifier use here...\n",
    "# X_test_scaled = pca.transform(X_test)\n"
   ]
  },
  {
   "cell_type": "code",
   "execution_count": 17,
   "metadata": {
    "colab": {
     "base_uri": "https://localhost:8080/"
    },
    "execution": {
     "iopub.execute_input": "2021-11-07T15:03:33.917451Z",
     "iopub.status.busy": "2021-11-07T15:03:33.916918Z",
     "iopub.status.idle": "2021-11-07T15:04:14.619822Z",
     "shell.execute_reply": "2021-11-07T15:04:14.618474Z",
     "shell.execute_reply.started": "2021-11-07T15:03:33.917389Z"
    },
    "id": "GrEa5DuxsSgd",
    "outputId": "a10606c3-25df-4b40-fa53-97a6e03a31d0"
   },
   "outputs": [
    {
     "name": "stdout",
     "output_type": "stream",
     "text": [
      "38.433581590652466\n",
      "(60000, 784) (60000,)\n"
     ]
    }
   ],
   "source": [
    "start=time.time()\n",
    "\n",
    "rfc_pca = RandomForestClassifier()\n",
    "rfc_pca.fit(X_drop_labels_scaled,y_train)\n",
    "\n",
    "end=time.time()\n",
    "print(end-start)\n",
    "\n",
    "print(X_drop_labels_scaled.shape, y_train.shape)"
   ]
  },
  {
   "cell_type": "code",
   "execution_count": 18,
   "metadata": {
    "colab": {
     "base_uri": "https://localhost:8080/"
    },
    "execution": {
     "iopub.execute_input": "2021-11-07T15:04:14.622148Z",
     "iopub.status.busy": "2021-11-07T15:04:14.621795Z",
     "iopub.status.idle": "2021-11-07T15:04:14.743891Z",
     "shell.execute_reply": "2021-11-07T15:04:14.743297Z",
     "shell.execute_reply.started": "2021-11-07T15:04:14.622091Z"
    },
    "id": "V55vRcj-sSgd",
    "outputId": "7cd49349-2360-424d-e071-3c49c5f763a5"
   },
   "outputs": [
    {
     "data": {
      "text/plain": [
       "array([3, 0, 2, ..., 3, 5, 3])"
      ]
     },
     "execution_count": 18,
     "metadata": {},
     "output_type": "execute_result"
    }
   ],
   "source": [
    "#Predicting y on the validation set (20%)\n",
    "\n",
    "#y_valpredicdt_rfc_pca = rfc_pca.predict(X_test_scaled)\n",
    "\n",
    "y_predict_rfc_pca = rfc_pca.predict(X_unseentest_scaled)\n",
    "y_predict_rfc_pca"
   ]
  },
  {
   "cell_type": "code",
   "execution_count": 19,
   "metadata": {
    "colab": {
     "base_uri": "https://localhost:8080/"
    },
    "execution": {
     "iopub.execute_input": "2021-11-07T15:04:14.745426Z",
     "iopub.status.busy": "2021-11-07T15:04:14.744865Z",
     "iopub.status.idle": "2021-11-07T15:04:14.749810Z",
     "shell.execute_reply": "2021-11-07T15:04:14.749184Z",
     "shell.execute_reply.started": "2021-11-07T15:04:14.745395Z"
    },
    "id": "mJqVJSbbsSgd",
    "outputId": "15bc5ec2-abb1-4dc2-adc3-021ec93175d2"
   },
   "outputs": [
    {
     "name": "stdout",
     "output_type": "stream",
     "text": [
      "(12000,)\n",
      "(5000,)\n"
     ]
    }
   ],
   "source": [
    "print(y_test.shape)\n",
    "print(y_predict_rfc_pca.shape)"
   ]
  },
  {
   "cell_type": "code",
   "execution_count": 20,
   "metadata": {
    "execution": {
     "iopub.execute_input": "2021-11-07T15:04:14.751523Z",
     "iopub.status.busy": "2021-11-07T15:04:14.750760Z",
     "iopub.status.idle": "2021-11-07T15:04:14.760132Z",
     "shell.execute_reply": "2021-11-07T15:04:14.759475Z",
     "shell.execute_reply.started": "2021-11-07T15:04:14.751490Z"
    },
    "id": "tYVkgh-JsSge"
   },
   "outputs": [],
   "source": [
    "#Classification report\n",
    "\n",
    "#print(classification_report(y_test, y_valpredict_rfc_pca))"
   ]
  },
  {
   "cell_type": "code",
   "execution_count": 21,
   "metadata": {
    "execution": {
     "iopub.execute_input": "2021-11-07T15:04:14.761658Z",
     "iopub.status.busy": "2021-11-07T15:04:14.761261Z",
     "iopub.status.idle": "2021-11-07T15:04:14.769916Z",
     "shell.execute_reply": "2021-11-07T15:04:14.769064Z",
     "shell.execute_reply.started": "2021-11-07T15:04:14.761613Z"
    },
    "id": "iYYSh2iisSge"
   },
   "outputs": [],
   "source": [
    "#confusion_matrix(y_test, y_predict_rfc_pca)"
   ]
  },
  {
   "cell_type": "code",
   "execution_count": 21,
   "metadata": {
    "id": "ka438uvNsSge"
   },
   "outputs": [],
   "source": []
  },
  {
   "cell_type": "code",
   "execution_count": 22,
   "metadata": {
    "execution": {
     "iopub.execute_input": "2021-11-07T15:04:14.771897Z",
     "iopub.status.busy": "2021-11-07T15:04:14.771321Z",
     "iopub.status.idle": "2021-11-07T15:04:14.869095Z",
     "shell.execute_reply": "2021-11-07T15:04:14.868074Z",
     "shell.execute_reply.started": "2021-11-07T15:04:14.771855Z"
    },
    "id": "JVoUzDTusSge"
   },
   "outputs": [],
   "source": [
    "#Kaggle submission RFC with PCA\n",
    "\n",
    "# unseenXtest = unseentest.drop(columns = 'id')\n",
    "\n",
    "modeltestrfc_pca = pd.Series(rfc_pca.predict(unseenXtest), name = 'label')\n",
    "modelsubmissionrfc = pd.concat([unseentest['id'], modeltestrfc_pca], axis=1)\n",
    "\n",
    "modelsubmissionrfc.to_csv('submission.csv', index = False)"
   ]
  },
  {
   "cell_type": "markdown",
   "metadata": {
    "id": "_asrmWCrsSge"
   },
   "source": [
    "# K Means Clustering"
   ]
  },
  {
   "cell_type": "markdown",
   "metadata": {
    "id": "EzDRBX8usSge"
   },
   "source": [
    "References:\n",
    "[1]: https://en.wikipedia.org/wiki/K-means_clustering\n",
    "[2]: http://yann.lecun.com/exdb/mnist/\n",
    "[3]: https://en.wikipedia.org/wiki/MNIST_database\n",
    "[4]: https://www.kaggle.com/ngbolin/mnist-dataset-digit-recognizer"
   ]
  },
  {
   "cell_type": "code",
   "execution_count": 23,
   "metadata": {
    "colab": {
     "base_uri": "https://localhost:8080/"
    },
    "execution": {
     "iopub.execute_input": "2021-11-07T15:04:14.870845Z",
     "iopub.status.busy": "2021-11-07T15:04:14.870473Z",
     "iopub.status.idle": "2021-11-07T15:04:15.038381Z",
     "shell.execute_reply": "2021-11-07T15:04:15.037516Z",
     "shell.execute_reply.started": "2021-11-07T15:04:14.870794Z"
    },
    "id": "4E2xHSFCsSgf",
    "outputId": "f27b5f70-c0bb-4587-b870-5a7a92c2c085"
   },
   "outputs": [
    {
     "name": "stdout",
     "output_type": "stream",
     "text": [
      "(60000, 784)\n",
      "(5000, 784)\n"
     ]
    }
   ],
   "source": [
    "#create the training/test set\n",
    "\n",
    "X_train = train.drop('label', axis = 1).to_numpy()\n",
    "y_train = train['label'].to_numpy()\n",
    "\n",
    "X_test = unseentest.drop('id', axis = 1).to_numpy()\n",
    "\n",
    "print(X_train.shape)\n",
    "print(X_test.shape)"
   ]
  },
  {
   "cell_type": "code",
   "execution_count": 24,
   "metadata": {
    "colab": {
     "base_uri": "https://localhost:8080/"
    },
    "execution": {
     "iopub.execute_input": "2021-11-07T15:04:15.040343Z",
     "iopub.status.busy": "2021-11-07T15:04:15.040027Z",
     "iopub.status.idle": "2021-11-07T15:04:15.213888Z",
     "shell.execute_reply": "2021-11-07T15:04:15.212963Z",
     "shell.execute_reply.started": "2021-11-07T15:04:15.040299Z"
    },
    "id": "co0nJmirsSgf",
    "outputId": "2d7f4cb0-e93e-454b-a8be-f6a1ccd900a3"
   },
   "outputs": [
    {
     "name": "stdout",
     "output_type": "stream",
     "text": [
      "(60000, 784)\n",
      "(784,)\n"
     ]
    }
   ],
   "source": [
    "# convert each image to 1 dimensional array\n",
    "\n",
    "X = X_train.reshape(len(X_train),-1)\n",
    "Y = y_train\n",
    "\n",
    "# normalize the data to 0 - 1\n",
    "\n",
    "X = X.astype(float) / 255.\n",
    "\n",
    "print(X.shape)\n",
    "print(X[0].shape)\n"
   ]
  },
  {
   "cell_type": "code",
   "execution_count": 25,
   "metadata": {
    "colab": {
     "base_uri": "https://localhost:8080/"
    },
    "execution": {
     "iopub.execute_input": "2021-11-07T15:04:15.215753Z",
     "iopub.status.busy": "2021-11-07T15:04:15.215341Z",
     "iopub.status.idle": "2021-11-07T15:04:17.436291Z",
     "shell.execute_reply": "2021-11-07T15:04:17.435466Z",
     "shell.execute_reply.started": "2021-11-07T15:04:15.215705Z"
    },
    "id": "tYovZEpLsSgf",
    "outputId": "63b8e557-8c68-4f18-a65b-b8f11034baa1"
   },
   "outputs": [
    {
     "name": "stdout",
     "output_type": "stream",
     "text": [
      "seconds:  2.6493237018585205\n"
     ]
    },
    {
     "data": {
      "text/plain": [
       "array([1, 1, 5, ..., 0, 6, 9], dtype=int32)"
      ]
     },
     "execution_count": 25,
     "metadata": {},
     "output_type": "execute_result"
    }
   ],
   "source": [
    "from sklearn.cluster import MiniBatchKMeans\n",
    "\n",
    "#The MNIST dataset contains images of the integers 0 to 9. Because of this, let’s start by setting the number of clusters to 10, one for each digit.\n",
    "\n",
    "n_digits = 10\n",
    "\n",
    "# Initialize KMeans model\n",
    "\n",
    "kmeans = MiniBatchKMeans(n_clusters = n_digits)\n",
    "\n",
    "# Fit the model to the training data\n",
    "start=time.time()\n",
    "kmeans.fit(X)\n",
    "end=time.time()\n",
    "print(\"seconds: \",end-start)\n",
    "\n",
    "kmeans.labels_"
   ]
  },
  {
   "cell_type": "code",
   "execution_count": 26,
   "metadata": {
    "colab": {
     "base_uri": "https://localhost:8080/"
    },
    "execution": {
     "iopub.execute_input": "2021-11-07T15:04:17.443592Z",
     "iopub.status.busy": "2021-11-07T15:04:17.437951Z",
     "iopub.status.idle": "2021-11-07T15:04:20.045430Z",
     "shell.execute_reply": "2021-11-07T15:04:20.044428Z",
     "shell.execute_reply.started": "2021-11-07T15:04:17.443528Z"
    },
    "id": "Tuxe8xM5sSgf",
    "outputId": "29a2b4e5-37b3-466f-d5f7-25d67382bea0"
   },
   "outputs": [
    {
     "name": "stdout",
     "output_type": "stream",
     "text": [
      "[0 0 2 3 4 5 7 7 8 4 0 5 3 3 4 5 7 7 8 9]\n",
      "[0 1 2 3 4 5 6 7 8 9 0 1 2 3 4 5 6 7 8 9]\n"
     ]
    }
   ],
   "source": [
    "def infer_cluster_labels(kmeans, actual_labels):\n",
    "  inferred_labels = {}\n",
    "\n",
    "  for i in range(kmeans.n_clusters):\n",
    "\n",
    "    # find index of points in cluster\n",
    "    labels = []\n",
    "    index = np.where(kmeans.labels_ == i)\n",
    "\n",
    "    # append actual labels for each point in cluster\n",
    "    labels.append(actual_labels[index])\n",
    "\n",
    "    # determine most common label\n",
    "    if len(labels[0]) == 1:\n",
    "        counts = np.bincount(labels[0])\n",
    "    else:\n",
    "        counts = np.bincount(np.squeeze(labels))\n",
    "\n",
    "    # assign the cluster to a value in the inferred_labels dictionary\n",
    "    if np.argmax(counts) in inferred_labels:\n",
    "        # append the new number to the existing array at this slot\n",
    "        inferred_labels[np.argmax(counts)].append(i)\n",
    "    else:\n",
    "        # create a new array in this slot\n",
    "        inferred_labels[np.argmax(counts)] = [i]\n",
    "\n",
    "    #print(labels)\n",
    "    #print('Cluster: {}, label: {}'.format(i, np.argmax(counts)))\n",
    "    \n",
    "  return inferred_labels\n",
    "\n",
    "def infer_data_labels(X_labels, cluster_labels):\n",
    "  # empty array of len(X)\n",
    "  predicted_labels = np.zeros(len(X_labels)).astype(np.uint8)\n",
    "\n",
    "  for i, cluster in enumerate(X_labels):\n",
    "    for key, value in cluster_labels.items():\n",
    "        if cluster in value:\n",
    "            predicted_labels[i] = key\n",
    "            \n",
    "  return predicted_labels\n",
    "\n",
    "# test the infer_cluster_labels() and infer_data_labels() functions\n",
    "\n",
    "cluster_labels = infer_cluster_labels(kmeans, Y)\n",
    "X_clusters = kmeans.predict(X)\n",
    "predicted_labels = infer_data_labels(X_clusters, cluster_labels)\n",
    "print(predicted_labels[:20])\n",
    "print(Y[:20])"
   ]
  },
  {
   "cell_type": "code",
   "execution_count": 27,
   "metadata": {
    "colab": {
     "base_uri": "https://localhost:8080/",
     "height": 644
    },
    "execution": {
     "iopub.execute_input": "2021-11-07T15:04:20.047777Z",
     "iopub.status.busy": "2021-11-07T15:04:20.047425Z",
     "iopub.status.idle": "2021-11-07T15:04:30.081487Z",
     "shell.execute_reply": "2021-11-07T15:04:30.080535Z",
     "shell.execute_reply.started": "2021-11-07T15:04:20.047730Z"
    },
    "id": "aeBALO7NsSgg",
    "outputId": "93e90d0c-ef95-493e-f907-4a5cf2d2c571"
   },
   "outputs": [
    {
     "data": {
      "image/png": "[encoded data removed]",
      "text/plain": [
       "<Figure size 1440x1440 with 36 Axes>"
      ]
     },
     "metadata": {
      "needs_background": "light"
     },
     "output_type": "display_data"
    }
   ],
   "source": [
    "# Initialize and fit KMeans algorithm\n",
    "kmeans = MiniBatchKMeans(n_clusters = 36)\n",
    "kmeans.fit(X)\n",
    "\n",
    "# record centroid values\n",
    "centroids = kmeans.cluster_centers_\n",
    "\n",
    "# reshape centroids into images\n",
    "images = centroids.reshape(36, 28, 28)\n",
    "images *= 255\n",
    "images = images.astype(np.uint8)\n",
    "\n",
    "# determine cluster labels\n",
    "cluster_labels = infer_cluster_labels(kmeans, Y)\n",
    "\n",
    "# create figure with subplots using matplotlib.pyplot\n",
    "fig, axs = plt.subplots(6, 6, figsize = (20, 20))\n",
    "plt.gray()\n",
    "\n",
    "# loop through subplots and add centroid images\n",
    "for i, ax in enumerate(axs.flat):\n",
    "    \n",
    "    # determine inferred label using cluster_labels dictionary\n",
    "    for key, value in cluster_labels.items():\n",
    "        if i in value:\n",
    "            ax.set_title('Inferred Label: {}'.format(key))\n",
    "    \n",
    "    # add image to subplot\n",
    "    ax.matshow(images[i])\n",
    "    ax.axis('off')\n",
    "    \n",
    "# display the figure\n",
    "fig.show()"
   ]
  },
  {
   "cell_type": "code",
   "execution_count": 28,
   "metadata": {
    "colab": {
     "base_uri": "https://localhost:8080/"
    },
    "execution": {
     "iopub.execute_input": "2021-11-07T15:04:30.088249Z",
     "iopub.status.busy": "2021-11-07T15:04:30.087990Z",
     "iopub.status.idle": "2021-11-07T15:04:30.099564Z",
     "shell.execute_reply": "2021-11-07T15:04:30.098663Z",
     "shell.execute_reply.started": "2021-11-07T15:04:30.088218Z"
    },
    "id": "STk5ANP5sSgg",
    "outputId": "0c6d7871-3beb-4234-f3b9-763fbb915ecb"
   },
   "outputs": [
    {
     "name": "stdout",
     "output_type": "stream",
     "text": [
      "Accuracy: 0.69075\n",
      "\n"
     ]
    }
   ],
   "source": [
    "print('Accuracy: {}\\n'.format(accuracy_score(y_train, predicted_labels)))"
   ]
  },
  {
   "cell_type": "code",
   "execution_count": 29,
   "metadata": {
    "colab": {
     "base_uri": "https://localhost:8080/"
    },
    "execution": {
     "iopub.execute_input": "2021-11-07T15:04:30.103623Z",
     "iopub.status.busy": "2021-11-07T15:04:30.101495Z",
     "iopub.status.idle": "2021-11-07T15:04:30.127491Z",
     "shell.execute_reply": "2021-11-07T15:04:30.126542Z",
     "shell.execute_reply.started": "2021-11-07T15:04:30.103569Z"
    },
    "id": "3udbjei0sSgg",
    "outputId": "0e13d7a3-e103-45b1-e1d3-237c313a14d7"
   },
   "outputs": [
    {
     "name": "stdout",
     "output_type": "stream",
     "text": [
      "(5000, 784)\n",
      "(784,)\n"
     ]
    }
   ],
   "source": [
    "#running the model on the test set\n",
    "\n",
    "# convert each image to 1 dimensional array\n",
    "\n",
    "X_test = X_test.reshape(len(X_test),-1)\n",
    "\n",
    "# normalize the data to 0 - 1\n",
    "\n",
    "X_test = X_test.astype(float) / 255.\n",
    "\n",
    "print(X_test.shape)\n",
    "print(X_test[0].shape)"
   ]
  },
  {
   "cell_type": "code",
   "execution_count": 30,
   "metadata": {
    "execution": {
     "iopub.execute_input": "2021-11-07T15:04:30.129569Z",
     "iopub.status.busy": "2021-11-07T15:04:30.129051Z",
     "iopub.status.idle": "2021-11-07T15:04:31.279517Z",
     "shell.execute_reply": "2021-11-07T15:04:31.278775Z",
     "shell.execute_reply.started": "2021-11-07T15:04:30.129524Z"
    },
    "id": "PpHMmr94sSgg"
   },
   "outputs": [],
   "source": [
    "# Initialize and fit KMeans algorithm\n",
    "kmeans = MiniBatchKMeans(n_clusters = 10)\n",
    "kmeans.fit(X_test)\n",
    "\n",
    "cluster_labels = infer_cluster_labels(kmeans, Y)\n",
    "X_clusters = kmeans.predict(X_test)\n",
    "predicted_labels = infer_data_labels(X_clusters, cluster_labels)"
   ]
  },
  {
   "cell_type": "code",
   "execution_count": 31,
   "metadata": {
    "execution": {
     "iopub.execute_input": "2021-11-07T15:04:31.281404Z",
     "iopub.status.busy": "2021-11-07T15:04:31.280946Z",
     "iopub.status.idle": "2021-11-07T15:04:31.299485Z",
     "shell.execute_reply": "2021-11-07T15:04:31.298763Z",
     "shell.execute_reply.started": "2021-11-07T15:04:31.281361Z"
    },
    "id": "uH8aFAKwsSgg"
   },
   "outputs": [],
   "source": [
    "kmeans_pred = pd.Series(X_clusters, name = 'label')\n",
    "kmeans_pred_submission = pd.concat([unseentest['id'], kmeans_pred], axis=1)\n",
    "kmeans_pred_submission.to_csv('submission.csv', index = False)"
   ]
  },
  {
   "cell_type": "markdown",
   "metadata": {
    "id": "8yczcbyFsSgg"
   },
   "source": [
    "# Neural Networks"
   ]
  },
  {
   "cell_type": "code",
   "execution_count": 32,
   "metadata": {
    "execution": {
     "iopub.execute_input": "2021-11-07T15:04:31.301464Z",
     "iopub.status.busy": "2021-11-07T15:04:31.300959Z",
     "iopub.status.idle": "2021-11-07T15:04:36.025360Z",
     "shell.execute_reply": "2021-11-07T15:04:36.024364Z",
     "shell.execute_reply.started": "2021-11-07T15:04:31.301402Z"
    },
    "id": "9noTJTdUsSgh"
   },
   "outputs": [],
   "source": [
    "import tensorflow as tf\n",
    "from tensorflow import keras"
   ]
  },
  {
   "cell_type": "code",
   "execution_count": 33,
   "metadata": {
    "execution": {
     "iopub.execute_input": "2021-11-07T15:04:36.027255Z",
     "iopub.status.busy": "2021-11-07T15:04:36.026990Z",
     "iopub.status.idle": "2021-11-07T15:04:40.344422Z",
     "shell.execute_reply": "2021-11-07T15:04:40.343684Z",
     "shell.execute_reply.started": "2021-11-07T15:04:36.027221Z"
    },
    "id": "7aRxzqmvsSgh"
   },
   "outputs": [],
   "source": []
  },
  {
   "cell_type": "code",
   "execution_count": 34,
   "metadata": {
    "colab": {
     "base_uri": "https://localhost:8080/"
    },
    "execution": {
     "iopub.execute_input": "2021-11-07T18:24:38.729087Z",
     "iopub.status.busy": "2021-11-07T18:24:38.728759Z",
     "iopub.status.idle": "2021-11-07T18:24:41.423500Z",
     "shell.execute_reply": "2021-11-07T18:24:41.422376Z",
     "shell.execute_reply.started": "2021-11-07T18:24:38.729053Z"
    },
    "id": "vJ8uc0lBsSgh",
    "outputId": "91c615ad-ad03-4000-a072-af17b9344597"
   },
   "outputs": [
    {
     "name": "stdout",
     "output_type": "stream",
     "text": [
      "(60000, 784)\n",
      "(5000, 784)\n",
      "(5000, 784)\n"
     ]
    }
   ],
   "source": [
    "# Dividing Data and Labels\n",
    "#create the training/test set\n",
    "\n",
    "X_train = train.drop('label', axis = 1).to_numpy()\n",
    "y_train = train['label'].to_numpy()\n",
    "\n",
    "X_unseentest = unseentest.drop('id', axis = 1).to_numpy()\n",
    "\n",
    "X_train = X_train / 255\n",
    "X_test = X_test / 255\n",
    "X_unseentest = X_unseentest / 255\n",
    "\n",
    "print(X_train.shape)\n",
    "print(X_test.shape) #Array has already been flattened down to a single array from 28 x 28 to 784\n",
    "print(X_unseentest.shape)\n",
    "\n",
    "# Splitting Train and Test Data\n",
    "\n",
    "X_train,X_test,y_train,y_test  = train_test_split(X_train,\n",
    "                                              y_train,\n",
    "                                              test_size=0.2,\n",
    "                                              stratify = labels,\n",
    "                                              random_state = 42)"
   ]
  },
  {
   "cell_type": "code",
   "execution_count": 35,
   "metadata": {
    "colab": {
     "base_uri": "https://localhost:8080/"
    },
    "execution": {
     "iopub.execute_input": "2021-11-07T15:04:41.299908Z",
     "iopub.status.busy": "2021-11-07T15:04:41.299561Z",
     "iopub.status.idle": "2021-11-07T15:04:55.621036Z",
     "shell.execute_reply": "2021-11-07T15:04:55.620175Z",
     "shell.execute_reply.started": "2021-11-07T15:04:41.299866Z"
    },
    "id": "lmsof-wZsSgh",
    "outputId": "98e16c27-de7e-48f1-8307-cd5a25a3533f"
   },
   "outputs": [
    {
     "name": "stdout",
     "output_type": "stream",
     "text": [
      "Epoch 1/5\n",
      "1500/1500 [==============================] - 2s 1ms/step - loss: 0.3506 - accuracy: 0.9244\n",
      "Epoch 2/5\n",
      "1500/1500 [==============================] - 2s 1ms/step - loss: 0.1488 - accuracy: 0.9610\n",
      "Epoch 3/5\n",
      "1500/1500 [==============================] - 2s 1ms/step - loss: 0.1241 - accuracy: 0.9662\n",
      "Epoch 4/5\n",
      "1500/1500 [==============================] - 2s 1ms/step - loss: 0.1118 - accuracy: 0.9690\n",
      "Epoch 5/5\n",
      "1500/1500 [==============================] - 2s 1ms/step - loss: 0.1042 - accuracy: 0.9702\n"
     ]
    },
    {
     "data": {
      "text/plain": [
       "<keras.callbacks.History at 0x7f8d9be14a90>"
      ]
     },
     "execution_count": 35,
     "metadata": {},
     "output_type": "execute_result"
    }
   ],
   "source": [
    "model = keras.Sequential([\n",
    "    keras.layers.Dense(10, input_shape=(784,), activation='sigmoid')\n",
    "])\n",
    "\n",
    "model.compile(optimizer='adam',\n",
    "              loss='sparse_categorical_crossentropy',\n",
    "              metrics=['accuracy'])\n",
    "\n",
    "model.fit(X_train, y_train, epochs=5)"
   ]
  },
  {
   "cell_type": "code",
   "execution_count": 36,
   "metadata": {
    "colab": {
     "base_uri": "https://localhost:8080/"
    },
    "execution": {
     "iopub.execute_input": "2021-11-07T15:04:55.622852Z",
     "iopub.status.busy": "2021-11-07T15:04:55.622468Z",
     "iopub.status.idle": "2021-11-07T15:04:56.309844Z",
     "shell.execute_reply": "2021-11-07T15:04:56.309193Z",
     "shell.execute_reply.started": "2021-11-07T15:04:55.622799Z"
    },
    "id": "dLTBWeVksSgh",
    "outputId": "079b7973-4715-455c-9c33-ad19a3b639b0"
   },
   "outputs": [
    {
     "name": "stdout",
     "output_type": "stream",
     "text": [
      "375/375 [==============================] - 1s 1ms/step - loss: 0.1056 - accuracy: 0.9678\n"
     ]
    },
    {
     "data": {
      "text/plain": [
       "[0.10564807802438736, 0.9678333401679993]"
      ]
     },
     "execution_count": 36,
     "metadata": {},
     "output_type": "execute_result"
    }
   ],
   "source": [
    "model.evaluate(X_test, y_test)"
   ]
  },
  {
   "cell_type": "code",
   "execution_count": 37,
   "metadata": {
    "colab": {
     "base_uri": "https://localhost:8080/"
    },
    "execution": {
     "iopub.execute_input": "2021-11-07T15:04:56.311707Z",
     "iopub.status.busy": "2021-11-07T15:04:56.311232Z",
     "iopub.status.idle": "2021-11-07T15:04:56.842511Z",
     "shell.execute_reply": "2021-11-07T15:04:56.841516Z",
     "shell.execute_reply.started": "2021-11-07T15:04:56.311665Z"
    },
    "id": "NygExBiWsSgh",
    "outputId": "777f4640-048f-4493-b280-1b818fb98742"
   },
   "outputs": [
    {
     "data": {
      "text/plain": [
       "array([1.0310070e-05, 4.2487613e-06, 1.3548136e-04, 3.0291080e-04,\n",
       "       8.2609642e-01, 9.7799766e-01, 2.5048852e-04, 3.7558621e-05,\n",
       "       7.3323250e-03, 7.2589517e-04], dtype=float32)"
      ]
     },
     "execution_count": 37,
     "metadata": {},
     "output_type": "execute_result"
    }
   ],
   "source": [
    "#predict y on validation test set\n",
    "y_predicted = model.predict(X_test)\n",
    "y_predicted[0]"
   ]
  },
  {
   "cell_type": "code",
   "execution_count": 38,
   "metadata": {
    "colab": {
     "base_uri": "https://localhost:8080/"
    },
    "execution": {
     "iopub.execute_input": "2021-11-07T15:04:56.844501Z",
     "iopub.status.busy": "2021-11-07T15:04:56.843978Z",
     "iopub.status.idle": "2021-11-07T15:04:56.851742Z",
     "shell.execute_reply": "2021-11-07T15:04:56.850736Z",
     "shell.execute_reply.started": "2021-11-07T15:04:56.844432Z"
    },
    "id": "mALEBIKhsSgh",
    "outputId": "84fe7f70-1ff5-46db-c272-4bbcf9cd2dc4"
   },
   "outputs": [
    {
     "data": {
      "text/plain": [
       "5"
      ]
     },
     "execution_count": 38,
     "metadata": {},
     "output_type": "execute_result"
    }
   ],
   "source": [
    "y_test[0]"
   ]
  },
  {
   "cell_type": "code",
   "execution_count": 39,
   "metadata": {
    "colab": {
     "base_uri": "https://localhost:8080/"
    },
    "execution": {
     "iopub.execute_input": "2021-11-07T15:04:56.854426Z",
     "iopub.status.busy": "2021-11-07T15:04:56.853762Z",
     "iopub.status.idle": "2021-11-07T15:04:56.864498Z",
     "shell.execute_reply": "2021-11-07T15:04:56.863739Z",
     "shell.execute_reply.started": "2021-11-07T15:04:56.854380Z"
    },
    "id": "cwcA6EUhsSgi",
    "outputId": "d295b6ae-7c43-43d5-a2be-8466b1fe4ebb"
   },
   "outputs": [
    {
     "data": {
      "text/plain": [
       "array([1.0310070e-05, 4.2487613e-06, 1.3548136e-04, 3.0291080e-04,\n",
       "       8.2609642e-01, 9.7799766e-01, 2.5048852e-04, 3.7558621e-05,\n",
       "       7.3323250e-03, 7.2589517e-04], dtype=float32)"
      ]
     },
     "execution_count": 39,
     "metadata": {},
     "output_type": "execute_result"
    }
   ],
   "source": [
    "y_predicted[0] #array values of highest probability shows it being the number 5"
   ]
  },
  {
   "cell_type": "code",
   "execution_count": 40,
   "metadata": {
    "colab": {
     "base_uri": "https://localhost:8080/"
    },
    "execution": {
     "iopub.execute_input": "2021-11-07T15:04:56.865663Z",
     "iopub.status.busy": "2021-11-07T15:04:56.865423Z",
     "iopub.status.idle": "2021-11-07T15:04:56.874933Z",
     "shell.execute_reply": "2021-11-07T15:04:56.874325Z",
     "shell.execute_reply.started": "2021-11-07T15:04:56.865635Z"
    },
    "id": "c8sxC3J8sSgi",
    "outputId": "af662c7a-4642-47a4-e998-dab78accb65c"
   },
   "outputs": [
    {
     "data": {
      "text/plain": [
       "5"
      ]
     },
     "execution_count": 40,
     "metadata": {},
     "output_type": "execute_result"
    }
   ],
   "source": [
    "np.argmax(y_predicted[0]) #return maximum element from array"
   ]
  },
  {
   "cell_type": "code",
   "execution_count": 41,
   "metadata": {
    "colab": {
     "base_uri": "https://localhost:8080/"
    },
    "execution": {
     "iopub.execute_input": "2021-11-07T15:04:56.876746Z",
     "iopub.status.busy": "2021-11-07T15:04:56.876278Z",
     "iopub.status.idle": "2021-11-07T15:04:56.922940Z",
     "shell.execute_reply": "2021-11-07T15:04:56.921706Z",
     "shell.execute_reply.started": "2021-11-07T15:04:56.876714Z"
    },
    "id": "l46dq4e0sSgi",
    "outputId": "0a468939-c7b3-422e-af2c-bb2d513d0ddc"
   },
   "outputs": [
    {
     "data": {
      "text/plain": [
       "[5, 4, 5, 2, 1]"
      ]
     },
     "execution_count": 41,
     "metadata": {},
     "output_type": "execute_result"
    }
   ],
   "source": [
    "y_predicted_labels=[np.argmax(i) for i in y_predicted]\n",
    "y_predicted_labels[:5]"
   ]
  },
  {
   "cell_type": "code",
   "execution_count": 42,
   "metadata": {
    "colab": {
     "base_uri": "https://localhost:8080/"
    },
    "execution": {
     "iopub.execute_input": "2021-11-07T15:04:56.924620Z",
     "iopub.status.busy": "2021-11-07T15:04:56.924273Z",
     "iopub.status.idle": "2021-11-07T15:04:56.962820Z",
     "shell.execute_reply": "2021-11-07T15:04:56.962051Z",
     "shell.execute_reply.started": "2021-11-07T15:04:56.924563Z"
    },
    "id": "BfK_c2cHsSgi",
    "outputId": "c54a8e9f-8850-41e8-fcdb-aa4a4badf35c"
   },
   "outputs": [
    {
     "data": {
      "text/plain": [
       "<tf.Tensor: shape=(10, 10), dtype=int32, numpy=\n",
       "array([[1156,   30,    0,    8,    1,    0,    1,    0,    4,    0],\n",
       "       [   5, 1186,    0,    3,    2,    1,    0,    1,    0,    2],\n",
       "       [   1,    0, 1197,    1,    0,    0,    1,    0,    0,    0],\n",
       "       [   8,    0,    1, 1159,    2,    8,    4,   17,    1,    0],\n",
       "       [   2,    0,    0,    7, 1175,    9,    2,    1,    2,    2],\n",
       "       [   0,    2,    0,   13,   14, 1166,    1,    1,    3,    0],\n",
       "       [   0,    0,    0,    8,    0,    1, 1128,   63,    0,    0],\n",
       "       [   3,    2,    0,   34,    1,    1,   44, 1115,    0,    0],\n",
       "       [   8,    2,    1,    2,    2,    5,    0,    0, 1178,    2],\n",
       "       [   2,    0,    0,    2,   16,    1,   15,    2,    8, 1154]],\n",
       "      dtype=int32)>"
      ]
     },
     "execution_count": 42,
     "metadata": {},
     "output_type": "execute_result"
    }
   ],
   "source": [
    "#confusion matrix\n",
    "\n",
    "cm = tf.math.confusion_matrix(labels=y_test,predictions=y_predicted_labels)\n",
    "cm"
   ]
  },
  {
   "cell_type": "markdown",
   "metadata": {
    "id": "xHN-_LpYsSgi"
   },
   "source": [
    "Note: Rectified Linear Unit is the most commonly used activation function in deep learning models. The function returns 0 if it receives any negative input, but for any positive value  x  it returns that value back. So it can be written as  f(x)=max(0,x) .\n",
    "\n",
    "Sigmoid function is a mathematical function which has a characteristic S-shaped curve. There are a number of common sigmoid functions, such as the logistic function, the hyperbolic tangent, and the arctangent. In machine learning, the term sigmoid function is normally used to refer specifically to the logistic function, also called the logistic sigmoid function.\n",
    "\n",
    "All sigmoid functions have the property that they map the entire number line into a small range such as between 0 and 1, or -1 and 1, so one use of a sigmoid function is to convert a real value into one that can be interpreted as a probability."
   ]
  },
  {
   "cell_type": "code",
   "execution_count": 43,
   "metadata": {
    "colab": {
     "base_uri": "https://localhost:8080/"
    },
    "execution": {
     "iopub.execute_input": "2021-11-07T15:04:56.964600Z",
     "iopub.status.busy": "2021-11-07T15:04:56.964144Z",
     "iopub.status.idle": "2021-11-07T15:05:13.793017Z",
     "shell.execute_reply": "2021-11-07T15:05:13.791971Z",
     "shell.execute_reply.started": "2021-11-07T15:04:56.964561Z"
    },
    "id": "VTqI8EZ5sSgi",
    "outputId": "84ad72f9-fef1-4109-e820-d49638366c6f"
   },
   "outputs": [
    {
     "name": "stdout",
     "output_type": "stream",
     "text": [
      "Epoch 1/5\n",
      "1500/1500 [==============================] - 3s 2ms/step - loss: 0.1842 - accuracy: 0.9523\n",
      "Epoch 2/5\n",
      "1500/1500 [==============================] - 2s 2ms/step - loss: 0.0765 - accuracy: 0.9785\n",
      "Epoch 3/5\n",
      "1500/1500 [==============================] - 2s 2ms/step - loss: 0.0508 - accuracy: 0.9847\n",
      "Epoch 4/5\n",
      "1500/1500 [==============================] - 3s 2ms/step - loss: 0.0354 - accuracy: 0.9899\n",
      "Epoch 5/5\n",
      "1500/1500 [==============================] - 2s 2ms/step - loss: 0.0259 - accuracy: 0.9926\n"
     ]
    },
    {
     "data": {
      "text/plain": [
       "<keras.callbacks.History at 0x7f8d9a47b050>"
      ]
     },
     "execution_count": 43,
     "metadata": {},
     "output_type": "execute_result"
    }
   ],
   "source": [
    "#adding hidden layer\n",
    "\n",
    "model = keras.Sequential([\n",
    "    keras.layers.Dense(100, input_shape=(784,), activation='relu'),\n",
    "    keras.layers.Dense(10, activation='sigmoid')\n",
    "])\n",
    "\n",
    "model.compile(optimizer='adam',\n",
    "              loss='sparse_categorical_crossentropy',\n",
    "              metrics=['accuracy'])\n",
    "\n",
    "model.fit(X_train, y_train, epochs=5)"
   ]
  },
  {
   "cell_type": "code",
   "execution_count": 44,
   "metadata": {
    "colab": {
     "base_uri": "https://localhost:8080/"
    },
    "execution": {
     "iopub.execute_input": "2021-11-07T15:05:13.794884Z",
     "iopub.status.busy": "2021-11-07T15:05:13.794538Z",
     "iopub.status.idle": "2021-11-07T15:05:14.540783Z",
     "shell.execute_reply": "2021-11-07T15:05:14.540000Z",
     "shell.execute_reply.started": "2021-11-07T15:05:13.794841Z"
    },
    "id": "pHgdKjwEsSgi",
    "outputId": "af9c4824-6743-400b-87d6-2905cacc608e"
   },
   "outputs": [
    {
     "name": "stdout",
     "output_type": "stream",
     "text": [
      "375/375 [==============================] - 1s 1ms/step - loss: 0.0555 - accuracy: 0.9844\n"
     ]
    },
    {
     "data": {
      "text/plain": [
       "[0.055535513907670975, 0.984416663646698]"
      ]
     },
     "execution_count": 44,
     "metadata": {},
     "output_type": "execute_result"
    }
   ],
   "source": [
    "model.evaluate(X_test,y_test)"
   ]
  },
  {
   "cell_type": "code",
   "execution_count": 45,
   "metadata": {
    "colab": {
     "base_uri": "https://localhost:8080/"
    },
    "execution": {
     "iopub.execute_input": "2021-11-07T15:05:14.542155Z",
     "iopub.status.busy": "2021-11-07T15:05:14.541917Z",
     "iopub.status.idle": "2021-11-07T15:05:15.103629Z",
     "shell.execute_reply": "2021-11-07T15:05:15.102792Z",
     "shell.execute_reply.started": "2021-11-07T15:05:14.542125Z"
    },
    "id": "MAcVC1SLsSgj",
    "outputId": "bfced24f-9539-49f7-f5b9-311e90d9f068"
   },
   "outputs": [
    {
     "data": {
      "text/plain": [
       "<tf.Tensor: shape=(10, 10), dtype=int32, numpy=\n",
       "array([[1168,   22,    0,    6,    1,    0,    0,    0,    2,    1],\n",
       "       [   2, 1192,    0,    2,    0,    0,    1,    0,    0,    3],\n",
       "       [   1,    0, 1195,    3,    0,    1,    0,    0,    0,    0],\n",
       "       [   3,    0,    0, 1188,    1,    5,    1,    2,    0,    0],\n",
       "       [   0,    1,    0,    1, 1186,    9,    2,    0,    1,    0],\n",
       "       [   0,    0,    0,    1,    1, 1196,    0,    1,    1,    0],\n",
       "       [   0,    0,    0,    3,    0,    0, 1174,   23,    0,    0],\n",
       "       [   0,    1,    1,   30,    0,    0,   18, 1150,    0,    0],\n",
       "       [   4,    2,    0,    1,    1,    4,    0,    0, 1187,    1],\n",
       "       [   1,    1,    0,    0,    5,    0,   13,    1,    2, 1177]],\n",
       "      dtype=int32)>"
      ]
     },
     "execution_count": 45,
     "metadata": {},
     "output_type": "execute_result"
    }
   ],
   "source": [
    "y_predicted = model.predict(X_test)\n",
    "y_predicted_labels = [np.argmax(i) for i in y_predicted]\n",
    "cm = tf.math.confusion_matrix(labels=y_test,predictions=y_predicted_labels)\n",
    "cm"
   ]
  },
  {
   "cell_type": "code",
   "execution_count": 46,
   "metadata": {
    "colab": {
     "base_uri": "https://localhost:8080/",
     "height": 204
    },
    "execution": {
     "iopub.execute_input": "2021-11-07T15:05:15.104875Z",
     "iopub.status.busy": "2021-11-07T15:05:15.104648Z",
     "iopub.status.idle": "2021-11-07T15:05:15.436341Z",
     "shell.execute_reply": "2021-11-07T15:05:15.435457Z",
     "shell.execute_reply.started": "2021-11-07T15:05:15.104844Z"
    },
    "id": "yE1hhj8msSgj",
    "outputId": "cd6e87c3-d46d-4431-de28-3e46e46e61ee"
   },
   "outputs": [
    {
     "data": {
      "text/html": [
       "<div>\n",
       "<style scoped>\n",
       "    .dataframe tbody tr th:only-of-type {\n",
       "        vertical-align: middle;\n",
       "    }\n",
       "\n",
       "    .dataframe tbody tr th {\n",
       "        vertical-align: top;\n",
       "    }\n",
       "\n",
       "    .dataframe thead th {\n",
       "        text-align: right;\n",
       "    }\n",
       "</style>\n",
       "<table border=\"1\" class=\"dataframe\">\n",
       "  <thead>\n",
       "    <tr style=\"text-align: right;\">\n",
       "      <th></th>\n",
       "      <th>label</th>\n",
       "    </tr>\n",
       "  </thead>\n",
       "  <tbody>\n",
       "    <tr>\n",
       "      <th>0</th>\n",
       "      <td>3</td>\n",
       "    </tr>\n",
       "    <tr>\n",
       "      <th>1</th>\n",
       "      <td>0</td>\n",
       "    </tr>\n",
       "    <tr>\n",
       "      <th>2</th>\n",
       "      <td>2</td>\n",
       "    </tr>\n",
       "    <tr>\n",
       "      <th>3</th>\n",
       "      <td>6</td>\n",
       "    </tr>\n",
       "    <tr>\n",
       "      <th>4</th>\n",
       "      <td>7</td>\n",
       "    </tr>\n",
       "  </tbody>\n",
       "</table>\n",
       "</div>"
      ],
      "text/plain": [
       "   label\n",
       "0      3\n",
       "1      0\n",
       "2      2\n",
       "3      6\n",
       "4      7"
      ]
     },
     "execution_count": 46,
     "metadata": {},
     "output_type": "execute_result"
    }
   ],
   "source": [
    "#predicting on the unseen test set for Kaggle submission\n",
    "\n",
    "y_predicted = model.predict(X_unseentest)\n",
    "y_predicted_labels = [np.argmax(i) for i in y_predicted]\n",
    "y_predicted_labels_df = pd.DataFrame(data = y_predicted_labels,columns = ['label'])\n",
    "y_predicted_labels_df.head()"
   ]
  },
  {
   "cell_type": "code",
   "execution_count": 47,
   "metadata": {
    "execution": {
     "iopub.execute_input": "2021-11-07T15:05:15.438110Z",
     "iopub.status.busy": "2021-11-07T15:05:15.437789Z",
     "iopub.status.idle": "2021-11-07T15:05:15.461269Z",
     "shell.execute_reply": "2021-11-07T15:05:15.460505Z",
     "shell.execute_reply.started": "2021-11-07T15:05:15.438069Z"
    },
    "id": "qELva47nsSgj"
   },
   "outputs": [],
   "source": [
    "#submission to Kaggle\n",
    "sub = pd.DataFrame(data=unseentest.id)\n",
    "sub = sub.join(y_predicted_labels_df.label)\n",
    "# Write out the predictions to disk\n",
    "sub.to_csv('submission.csv', index=False)"
   ]
  },
  {
   "cell_type": "markdown",
   "metadata": {
    "id": "GZU66F72sSgj"
   },
   "source": [
    "# Convolutional Neural Network"
   ]
  },
  {
   "cell_type": "markdown",
   "metadata": {
    "id": "pKfWj11gsSgj"
   },
   "source": [
    "\n",
    "Benan Akca, 2019, Kannada MNIST: CSNN Tutorial with App.\n",
    "https://www.kaggle.com/benanakca/kannada-mnist-cnn-tutorial-with-app-top-2"
   ]
  },
  {
   "cell_type": "code",
   "execution_count": 48,
   "metadata": {
    "execution": {
     "iopub.execute_input": "2021-11-07T15:05:15.463089Z",
     "iopub.status.busy": "2021-11-07T15:05:15.462582Z",
     "iopub.status.idle": "2021-11-07T15:05:15.472967Z",
     "shell.execute_reply": "2021-11-07T15:05:15.472151Z",
     "shell.execute_reply.started": "2021-11-07T15:05:15.463052Z"
    },
    "id": "qsTUXkTIsSgj"
   },
   "outputs": [],
   "source": [
    "from keras.utils.np_utils import to_categorical\n",
    "from tensorflow.keras import Sequential\n",
    "from tensorflow.keras.layers import Conv2D, Dropout, Dense, Flatten, BatchNormalization, MaxPooling2D,LeakyReLU\n",
    "from tensorflow.keras.optimizers import RMSprop,Nadam,Adadelta\n",
    "from tensorflow.keras.preprocessing.image import ImageDataGenerator\n",
    "from tensorflow.keras.callbacks import ReduceLROnPlateau, EarlyStopping\n",
    "from tensorflow.keras.utils import to_categorical\n",
    "from tensorflow.keras.regularizers import l2"
   ]
  },
  {
   "cell_type": "markdown",
   "metadata": {
    "id": "j3vvXcKnsSgj"
   },
   "source": [
    "Below we reshape the data since a CNN model must be fit based on 28x28 image instead of the flattened 784 array."
   ]
  },
  {
   "cell_type": "code",
   "execution_count": 49,
   "metadata": {
    "execution": {
     "iopub.execute_input": "2021-11-07T18:25:25.234531Z",
     "iopub.status.busy": "2021-11-07T18:25:25.234094Z",
     "iopub.status.idle": "2021-11-07T18:25:25.240736Z",
     "shell.execute_reply": "2021-11-07T18:25:25.240008Z",
     "shell.execute_reply.started": "2021-11-07T18:25:25.234495Z"
    },
    "id": "r7nQt2LisSgj"
   },
   "outputs": [],
   "source": [
    "X_train = X_train.reshape(-1, 28, 28,1)\n",
    "X_test = X_test.reshape(-1, 28, 28,1)\n",
    "X_unseentest = X_unseentest.reshape(-1,28,28,1)\n",
    "y_train = to_categorical(y_train)\n",
    "y_test = to_categorical(y_test)"
   ]
  },
  {
   "cell_type": "markdown",
   "metadata": {
    "id": "qHDk7hPzsSgk"
   },
   "source": [
    "Below we build the model architecture and decide on filter size, padding type, pooling, batch normalization, dropout, and activation function layers.\n",
    "\n",
    "Batch normalization is a method used to make artificial neural networks faster and more stable through normalization of the layers' inputs by re-centering and re-scaling.\n",
    "\n",
    "Filter size: \"During this learning process of CNN, you find different kernel sizes at different places in the code, then this question arises in one’s mind that whether there is a specific way to choose such dimensions or sizes. The answer is no.\" (S. Pandey). However author implies 3x3 kernal is most optimal, as also shown in the model below in the 2D convolutional NN.\n",
    "https://medium.com/analytics-vidhya/how-to-choose-the-size-of-the-convolution-filter-or-kernel-size-for-cnn-86a55a1e2d15\n",
    "\n",
    "Padding: \"Padding is a term relevant to convolutional neural networks as it refers to the amount of pixels added to an image when it is being processed by the kernel of a CNN. For example, if the padding in a CNN is set to zero, then every pixel value that is added will be of value zero.\" (DeepAI.org)\n",
    "\"In order to assist the kernel with processing the image, padding is added to the frame of the image to allow for more space for the kernel to cover the image. Adding padding to an image processed by a CNN allows for more accurate analysis of images.\" (DeepAI.org).\n",
    "https://deepai.org/machine-learning-glossary-and-terms/padding\n",
    "\n",
    "\"The term “dropout” refers to dropping out units (hidden and visible) in a neural network.\" \"A new hyperparameter is introduced that specifies the probability at which outputs of the layer are dropped out, or inversely, the probability at which outputs of the layer are retained. The interpretation is an implementation detail that can differ from paper to code library. A common value is a probability of 0.5 for retaining the output of each node in a hidden layer and a value close to 1.0, such as 0.8, for retaining inputs from the visible layer.\"\n",
    "https://machinelearningmastery.com/dropout-for-regularizing-deep-neural-networks/"
   ]
  },
  {
   "cell_type": "code",
   "execution_count": 50,
   "metadata": {
    "execution": {
     "iopub.execute_input": "2021-11-07T18:23:37.863718Z",
     "iopub.status.busy": "2021-11-07T18:23:37.862817Z",
     "iopub.status.idle": "2021-11-07T18:23:38.159972Z",
     "shell.execute_reply": "2021-11-07T18:23:38.159144Z",
     "shell.execute_reply.started": "2021-11-07T18:23:37.863671Z"
    },
    "id": "zLrdGwZtsSgk"
   },
   "outputs": [],
   "source": [
    "model = tf.keras.models.Sequential([\n",
    "    tf.keras.layers.Conv2D(64, (3,3), padding='same', input_shape=(28, 28, 1)),\n",
    "    tf.keras.layers.BatchNormalization(momentum=0.9, epsilon=1e-5, gamma_initializer=\"uniform\"),\n",
    "    tf.keras.layers.LeakyReLU(alpha=0.1),\n",
    "    tf.keras.layers.Conv2D(64,  (3,3), padding='same'),\n",
    "    tf.keras.layers.BatchNormalization(momentum=0.9, epsilon=1e-5, gamma_initializer=\"uniform\"),\n",
    "    tf.keras.layers.LeakyReLU(alpha=0.1),\n",
    "    tf.keras.layers.Conv2D(64,  (3,3), padding='same'),\n",
    "    tf.keras.layers.BatchNormalization(momentum=0.9, epsilon=1e-5, gamma_initializer=\"uniform\"),\n",
    "    tf.keras.layers.LeakyReLU(alpha=0.1),\n",
    "\n",
    "    tf.keras.layers.MaxPooling2D(2, 2),\n",
    "    tf.keras.layers.Dropout(0.25),\n",
    "    \n",
    "    tf.keras.layers.Conv2D(128, (3,3), padding='same'),\n",
    "    tf.keras.layers.BatchNormalization(momentum=0.9, epsilon=1e-5, gamma_initializer=\"uniform\"),\n",
    "    tf.keras.layers.LeakyReLU(alpha=0.1),\n",
    "    tf.keras.layers.Conv2D(128, (3,3), padding='same'),\n",
    "    tf.keras.layers.BatchNormalization(momentum=0.9, epsilon=1e-5, gamma_initializer=\"uniform\"),\n",
    "    tf.keras.layers.LeakyReLU(alpha=0.1),\n",
    "    tf.keras.layers.Conv2D(128, (3,3), padding='same'),\n",
    "    tf.keras.layers.BatchNormalization(momentum=0.9, epsilon=1e-5, gamma_initializer=\"uniform\"),\n",
    "    tf.keras.layers.LeakyReLU(alpha=0.1),\n",
    "    \n",
    "    tf.keras.layers.MaxPooling2D(2,2),\n",
    "    tf.keras.layers.Dropout(0.25),    \n",
    "    \n",
    "    tf.keras.layers.Conv2D(256, (3,3), padding='same'),\n",
    "    tf.keras.layers.BatchNormalization(momentum=0.9, epsilon=1e-5, gamma_initializer=\"uniform\"),\n",
    "    tf.keras.layers.LeakyReLU(alpha=0.1),\n",
    "    tf.keras.layers.Conv2D(256, (3,3), padding='same'),\n",
    "    tf.keras.layers.BatchNormalization(momentum=0.9, epsilon=1e-5, gamma_initializer=\"uniform\"),##\n",
    "    tf.keras.layers.LeakyReLU(alpha=0.1),\n",
    "\n",
    "    tf.keras.layers.MaxPooling2D(2,2),\n",
    "    tf.keras.layers.Dropout(0.25),\n",
    "    \n",
    "    \n",
    "    tf.keras.layers.Flatten(),\n",
    "    tf.keras.layers.Dense(256),\n",
    "    tf.keras.layers.LeakyReLU(alpha=0.1),\n",
    " \n",
    "    tf.keras.layers.BatchNormalization(),\n",
    "    tf.keras.layers.Dense(10, activation='softmax')\n",
    "])"
   ]
  },
  {
   "cell_type": "code",
   "execution_count": 51,
   "metadata": {
    "execution": {
     "iopub.execute_input": "2021-11-07T15:05:15.768971Z",
     "iopub.status.busy": "2021-11-07T15:05:15.768749Z",
     "iopub.status.idle": "2021-11-07T15:05:15.783017Z",
     "shell.execute_reply": "2021-11-07T15:05:15.782194Z",
     "shell.execute_reply.started": "2021-11-07T15:05:15.768945Z"
    },
    "id": "v1uy65FosSgk"
   },
   "outputs": [],
   "source": [
    "#RMSprop is a gradient based optimization\n",
    "optimizer = RMSprop(learning_rate=0.002,###########optimizer = RMSprop(learning_rate=0.0025,###########\n",
    "    rho=0.9,\n",
    "    momentum=0.1,\n",
    "    epsilon=1e-07,\n",
    "    centered=True,\n",
    "    name='RMSprop')\n",
    "model.compile(loss='categorical_crossentropy',\n",
    "              optimizer=optimizer,\n",
    "              metrics=['accuracy'])"
   ]
  },
  {
   "cell_type": "code",
   "execution_count": 52,
   "metadata": {
    "execution": {
     "iopub.execute_input": "2021-11-07T15:05:15.785515Z",
     "iopub.status.busy": "2021-11-07T15:05:15.784910Z",
     "iopub.status.idle": "2021-11-07T15:05:15.898344Z",
     "shell.execute_reply": "2021-11-07T15:05:15.897547Z",
     "shell.execute_reply.started": "2021-11-07T15:05:15.785459Z"
    },
    "id": "DlIElpJfsSgk"
   },
   "outputs": [],
   "source": [
    "# An observation code for our dataset\n",
    "datagen_try = ImageDataGenerator(rotation_range=15,\n",
    "                             width_shift_range = 0.15,\n",
    "                             height_shift_range = 0.15,\n",
    "                             shear_range = 0.15,\n",
    "                             zoom_range = 0.4,)\n",
    "# fit parameters from data\n",
    "datagen_try.fit(X_train)\n",
    "# configure batch size and retrieve one batch of images\n"
   ]
  },
  {
   "cell_type": "code",
   "execution_count": 53,
   "metadata": {
    "execution": {
     "iopub.execute_input": "2021-11-07T15:05:15.900614Z",
     "iopub.status.busy": "2021-11-07T15:05:15.900038Z",
     "iopub.status.idle": "2021-11-07T15:05:15.910669Z",
     "shell.execute_reply": "2021-11-07T15:05:15.909899Z",
     "shell.execute_reply.started": "2021-11-07T15:05:15.900571Z"
    },
    "id": "v-hA11dUsSgk"
   },
   "outputs": [],
   "source": [
    "batch_size = 1024\n",
    "num_classes = 10\n",
    "epochs = 2\n",
    "\n",
    "datagen_train = ImageDataGenerator(rotation_range = 10,\n",
    "                                   width_shift_range = 0.25,\n",
    "                                   height_shift_range = 0.25,\n",
    "                                   shear_range = 0.1,\n",
    "                                   zoom_range = 0.4,\n",
    "                                   horizontal_flip = False)\n",
    "\n",
    "datagen_val = ImageDataGenerator() \n",
    "\n",
    "\n",
    "step_train = X_train.shape[0] // batch_size\n",
    "step_val = X_test.shape[0] // batch_size\n",
    "\n",
    "learning_rate_reduction = tf.keras.callbacks.ReduceLROnPlateau( \n",
    "    monitor='loss',    # Quantity to be monitored.\n",
    "    factor=0.25,       # Factor by which the learning rate will be reduced. new_lr = lr * factor\n",
    "    patience=2,        # The number of epochs with no improvement after which learning rate will be reduced.\n",
    "    verbose=1,         # 0: quiet - 1: update messages.\n",
    "    mode=\"auto\",       # {auto, min, max}. In min mode, lr will be reduced when the quantity monitored has stopped decreasing; \n",
    "                       # in the max mode it will be reduced when the quantity monitored has stopped increasing; \n",
    "                       # in auto mode, the direction is automatically inferred from the name of the monitored quantity.\n",
    "    min_delta=0.0001,  # threshold for measuring the new optimum, to only focus on significant changes.\n",
    "    cooldown=0,        # number of epochs to wait before resuming normal operation after learning rate (lr) has been reduced.\n",
    "    min_lr=0.00001     # lower bound on the learning rate.\n",
    "    )\n",
    "\n",
    "es = EarlyStopping(monitor='val_loss', mode='min', verbose=1, patience=300, restore_best_weights=True)"
   ]
  },
  {
   "cell_type": "code",
   "execution_count": 54,
   "metadata": {
    "colab": {
     "base_uri": "https://localhost:8080/"
    },
    "execution": {
     "iopub.execute_input": "2021-11-07T16:26:06.429081Z",
     "iopub.status.busy": "2021-11-07T16:26:06.428238Z",
     "iopub.status.idle": "2021-11-07T17:49:26.934950Z",
     "shell.execute_reply": "2021-11-07T17:49:26.933353Z",
     "shell.execute_reply.started": "2021-11-07T16:26:06.429007Z"
    },
    "id": "WwYLZXVSsSgl",
    "outputId": "f2007fd1-0a6a-46dc-a3c0-518485428104"
   },
   "outputs": [
    {
     "name": "stdout",
     "output_type": "stream",
     "text": [
      "Epoch 1/2\n",
      "46/46 - 1212s - loss: 1.4207 - accuracy: 0.5085 - val_loss: 2.3324 - val_accuracy: 0.1359\n",
      "Epoch 2/2\n",
      "46/46 - 1211s - loss: 0.3805 - accuracy: 0.8723 - val_loss: 1.1823 - val_accuracy: 0.7746\n"
     ]
    }
   ],
   "source": [
    "#model fit\n",
    "history = model.fit_generator(datagen_train.flow(X_train, y_train, batch_size=batch_size),\n",
    "                              steps_per_epoch=len(X_train)//batch_size,\n",
    "                              epochs=epochs,\n",
    "                              validation_data=(X_test, y_test),\n",
    "                              validation_steps=40,\n",
    "                              callbacks=[learning_rate_reduction, es],\n",
    "                              verbose=2)"
   ]
  },
  {
   "cell_type": "code",
   "execution_count": 55,
   "metadata": {
    "colab": {
     "base_uri": "https://localhost:8080/"
    },
    "execution": {
     "iopub.execute_input": "2021-11-07T18:35:35.188122Z",
     "iopub.status.busy": "2021-11-07T18:35:35.187808Z",
     "iopub.status.idle": "2021-11-07T18:35:35.222870Z",
     "shell.execute_reply": "2021-11-07T18:35:35.221796Z",
     "shell.execute_reply.started": "2021-11-07T18:35:35.188090Z"
    },
    "id": "WzV_mMQtsSgl",
    "outputId": "dd63c001-5990-4b6e-8d3a-24bc80eec779"
   },
   "outputs": [
    {
     "name": "stdout",
     "output_type": "stream",
     "text": [
      "375/375 - 71s - loss: 1.1823 - accuracy: 0.7746\n"
     ]
    }
   ],
   "source": [
    "model.evaluate(X_test, y_test, verbose=2);"
   ]
  },
  {
   "cell_type": "code",
   "execution_count": 56,
   "metadata": {
    "colab": {
     "base_uri": "https://localhost:8080/"
    },
    "execution": {
     "iopub.execute_input": "2021-11-07T18:34:39.206945Z",
     "iopub.status.busy": "2021-11-07T18:34:39.206062Z",
     "iopub.status.idle": "2021-11-07T18:35:20.666685Z",
     "shell.execute_reply": "2021-11-07T18:35:20.665763Z",
     "shell.execute_reply.started": "2021-11-07T18:34:39.206892Z"
    },
    "id": "fSgE55BTsSgl",
    "outputId": "1d50154b-8dea-4966-f1f4-e8f27ee74418"
   },
   "outputs": [
    {
     "data": {
      "text/plain": [
       "array([[1183,    0,    0,   16,    0,    1,    0,    0,    0,    0],\n",
       "       [1063,   38,    0,   88,    0,   11,    0,    0,    0,    0],\n",
       "       [   6,    0, 1176,   17,    0,    1,    0,    0,    0,    0],\n",
       "       [   0,    0,    0, 1199,    0,    1,    0,    0,    0,    0],\n",
       "       [   0,    0,    0,  266,  662,  272,    0,    0,    0,    0],\n",
       "       [   0,    0,    0,    8,    0, 1192,    0,    0,    0,    0],\n",
       "       [   2,    0,    0,   22,   14,    0, 1022,  138,    1,    1],\n",
       "       [   7,    0,    0,  151,    0,    0,    2, 1040,    0,    0],\n",
       "       [  16,    0,    1,    3,   24,   13,    0,    0, 1143,    0],\n",
       "       [   2,    0,    0,    5,  541,    0,    6,    0,    6,  640]])"
      ]
     },
     "execution_count": 56,
     "metadata": {},
     "output_type": "execute_result"
    }
   ],
   "source": [
    "y_predicted = model.predict(X_test)\n",
    "y_grand_truth = y_test\n",
    "y_predicted = np.argmax(y_predicted,axis=1)\n",
    "y_grand_truth = np.argmax(y_grand_truth,axis=1)\n",
    "cm = confusion_matrix(y_grand_truth, y_predicted)\n",
    "cm"
   ]
  },
  {
   "cell_type": "code",
   "execution_count": 57,
   "metadata": {
    "execution": {
     "iopub.execute_input": "2021-11-07T18:30:59.022748Z",
     "iopub.status.busy": "2021-11-07T18:30:59.022151Z",
     "iopub.status.idle": "2021-11-07T18:31:16.769255Z",
     "shell.execute_reply": "2021-11-07T18:31:16.768581Z",
     "shell.execute_reply.started": "2021-11-07T18:30:59.022708Z"
    },
    "id": "dMnXfIyEsSgl"
   },
   "outputs": [],
   "source": [
    "#predicting on the unseen test set for Kaggle submission\n",
    "y_predicted = model.predict(X_unseentest)\n",
    "y_predicted = np.argmax(y_predicted,axis=1)\n"
   ]
  },
  {
   "cell_type": "code",
   "execution_count": 58,
   "metadata": {
    "colab": {
     "base_uri": "https://localhost:8080/",
     "height": 204
    },
    "execution": {
     "iopub.execute_input": "2021-11-07T18:34:19.989426Z",
     "iopub.status.busy": "2021-11-07T18:34:19.988654Z",
     "iopub.status.idle": "2021-11-07T18:34:19.995184Z",
     "shell.execute_reply": "2021-11-07T18:34:19.994581Z",
     "shell.execute_reply.started": "2021-11-07T18:34:19.989371Z"
    },
    "id": "LZbvHLuXsSgl",
    "outputId": "995f385e-3ced-4f04-d21c-89884453bd3d"
   },
   "outputs": [
    {
     "data": {
      "text/html": [
       "<div>\n",
       "<style scoped>\n",
       "    .dataframe tbody tr th:only-of-type {\n",
       "        vertical-align: middle;\n",
       "    }\n",
       "\n",
       "    .dataframe tbody tr th {\n",
       "        vertical-align: top;\n",
       "    }\n",
       "\n",
       "    .dataframe thead th {\n",
       "        text-align: right;\n",
       "    }\n",
       "</style>\n",
       "<table border=\"1\" class=\"dataframe\">\n",
       "  <thead>\n",
       "    <tr style=\"text-align: right;\">\n",
       "      <th></th>\n",
       "      <th>label</th>\n",
       "    </tr>\n",
       "  </thead>\n",
       "  <tbody>\n",
       "    <tr>\n",
       "      <th>0</th>\n",
       "      <td>3</td>\n",
       "    </tr>\n",
       "    <tr>\n",
       "      <th>1</th>\n",
       "      <td>0</td>\n",
       "    </tr>\n",
       "    <tr>\n",
       "      <th>2</th>\n",
       "      <td>2</td>\n",
       "    </tr>\n",
       "    <tr>\n",
       "      <th>3</th>\n",
       "      <td>6</td>\n",
       "    </tr>\n",
       "    <tr>\n",
       "      <th>4</th>\n",
       "      <td>7</td>\n",
       "    </tr>\n",
       "  </tbody>\n",
       "</table>\n",
       "</div>"
      ],
      "text/plain": [
       "   label\n",
       "0      3\n",
       "1      0\n",
       "2      2\n",
       "3      6\n",
       "4      7"
      ]
     },
     "execution_count": 58,
     "metadata": {},
     "output_type": "execute_result"
    }
   ],
   "source": [
    "y_predicted_df = pd.DataFrame(data = y_predicted,columns = ['label'])\n",
    "y_predicted_labels_df.head()"
   ]
  },
  {
   "cell_type": "code",
   "execution_count": 59,
   "metadata": {
    "execution": {
     "iopub.execute_input": "2021-11-07T18:27:37.371170Z",
     "iopub.status.busy": "2021-11-07T18:27:37.370868Z",
     "iopub.status.idle": "2021-11-07T18:27:37.395338Z",
     "shell.execute_reply": "2021-11-07T18:27:37.394503Z",
     "shell.execute_reply.started": "2021-11-07T18:27:37.371130Z"
    },
    "id": "YLwi50KBsSgl"
   },
   "outputs": [],
   "source": [
    "\n",
    "#submission to Kaggle\n",
    "sub = pd.DataFrame(data=unseentest.id)\n",
    "sub = sub.join(y_predicted_df.label)\n",
    "# Write out the predictions to disk\n",
    "sub.to_csv('submission.csv', index=False)"
   ]
  },
  {
   "cell_type": "code",
   "execution_count": null,
   "metadata": {
    "id": "x-cuRARNsSgm"
   },
   "outputs": [],
   "source": []
  },
  {
   "cell_type": "code",
   "execution_count": null,
   "metadata": {
    "id": "B_MRJFhVsSgm"
   },
   "outputs": [],
   "source": []
  },
  {
   "cell_type": "code",
   "execution_count": null,
   "metadata": {
    "id": "ERlmHBv9sSgm"
   },
   "outputs": [],
   "source": []
  }
 ],
 "metadata": {
  "colab": {
   "name": "kannada-mnist-chris-lee (1).ipynb",
   "provenance": [],
   "toc_visible": true
  },
  "kernelspec": {
   "display_name": "Python 3",
   "language": "python",
   "name": "python3"
  },
  "language_info": {
   "codemirror_mode": {
    "name": "ipython",
    "version": 3
   },
   "file_extension": ".py",
   "mimetype": "text/x-python",
   "name": "python",
   "nbconvert_exporter": "python",
   "pygments_lexer": "ipython3",
   "version": "3.7.3"
  }
 },
 "nbformat": 4,
 "nbformat_minor": 1
}
